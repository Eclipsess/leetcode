{
 "cells": [
  {
   "cell_type": "code",
   "execution_count": 1,
   "metadata": {
    "collapsed": true
   },
   "outputs": [],
   "source": [
    "digits = '23'"
   ]
  },
  {
   "cell_type": "code",
   "execution_count": 2,
   "metadata": {
    "collapsed": true
   },
   "outputs": [],
   "source": [
    "dic = {}\n",
    "dic['0']=\"\"\n",
    "dic['1']=\"\"  \n",
    "dic['2']=\"abc\"\n",
    "dic['3']=\"def\"  \n",
    "dic['4']=\"ghi\"  \n",
    "dic['5']=\"jkl\"  \n",
    "dic['6']=\"mno\"  \n",
    "dic['7']=\"pqrs\"  \n",
    "dic['8']=\"tuv\"  \n",
    "dic['9']=\"wxyz\""
   ]
  },
  {
   "cell_type": "code",
   "execution_count": 3,
   "metadata": {},
   "outputs": [
    {
     "name": "stdout",
     "output_type": "stream",
     "text": [
      "['', '']\n"
     ]
    }
   ],
   "source": [
    "dic\n",
    "tmp = [''] * len(digits)\n",
    "print tmp\n",
    "res = []"
   ]
  },
  {
   "cell_type": "code",
   "execution_count": 4,
   "metadata": {},
   "outputs": [],
   "source": [
    "def func(index, digits, tmp):\n",
    "    if index >= len(digits):\n",
    "        res.append(''.join(tmp))\n",
    "        print 'res',res\n",
    "        return \n",
    "    print index\n",
    "    for letter in dic[digits[index]]:\n",
    "        print 'letter',letter\n",
    "        tmp[index]=letter\n",
    "        print tmp\n",
    "        print index\n",
    "        func(index+1, digits, tmp)\n",
    "    return res"
   ]
  },
  {
   "cell_type": "code",
   "execution_count": 5,
   "metadata": {},
   "outputs": [
    {
     "name": "stdout",
     "output_type": "stream",
     "text": [
      "0\n",
      "letter a\n",
      "['a', '']\n",
      "0\n",
      "1\n",
      "letter d\n",
      "['a', 'd']\n",
      "1\n",
      "res ['ad']\n",
      "letter e\n",
      "['a', 'e']\n",
      "1\n",
      "res ['ad', 'ae']\n",
      "letter f\n",
      "['a', 'f']\n",
      "1\n",
      "res ['ad', 'ae', 'af']\n",
      "letter b\n",
      "['b', 'f']\n",
      "0\n",
      "1\n",
      "letter d\n",
      "['b', 'd']\n",
      "1\n",
      "res ['ad', 'ae', 'af', 'bd']\n",
      "letter e\n",
      "['b', 'e']\n",
      "1\n",
      "res ['ad', 'ae', 'af', 'bd', 'be']\n",
      "letter f\n",
      "['b', 'f']\n",
      "1\n",
      "res ['ad', 'ae', 'af', 'bd', 'be', 'bf']\n",
      "letter c\n",
      "['c', 'f']\n",
      "0\n",
      "1\n",
      "letter d\n",
      "['c', 'd']\n",
      "1\n",
      "res ['ad', 'ae', 'af', 'bd', 'be', 'bf', 'cd']\n",
      "letter e\n",
      "['c', 'e']\n",
      "1\n",
      "res ['ad', 'ae', 'af', 'bd', 'be', 'bf', 'cd', 'ce']\n",
      "letter f\n",
      "['c', 'f']\n",
      "1\n",
      "res ['ad', 'ae', 'af', 'bd', 'be', 'bf', 'cd', 'ce', 'cf']\n"
     ]
    },
    {
     "data": {
      "text/plain": [
       "['ad', 'ae', 'af', 'bd', 'be', 'bf', 'cd', 'ce', 'cf']"
      ]
     },
     "execution_count": 5,
     "metadata": {},
     "output_type": "execute_result"
    }
   ],
   "source": [
    "func(0, digits, tmp)"
   ]
  },
  {
   "cell_type": "code",
   "execution_count": 6,
   "metadata": {
    "collapsed": true
   },
   "outputs": [],
   "source": [
    "a = []\n",
    "a.append(1)"
   ]
  },
  {
   "cell_type": "code",
   "execution_count": 8,
   "metadata": {},
   "outputs": [],
   "source": [
    "class Solution(object):\n",
    "    dic = {}\n",
    "    dic['0']=\"\"\n",
    "    dic['1']=\"\"  \n",
    "    dic['2']=\"abc\"\n",
    "    dic['3']=\"def\"  \n",
    "    dic['4']=\"ghi\"  \n",
    "    dic['5']=\"jkl\"  \n",
    "    dic['6']=\"mno\"  \n",
    "    dic['7']=\"pqrs\"  \n",
    "    dic['8']=\"tuv\"  \n",
    "    dic['9']=\"wxyz\"\n",
    "    def letterCombinations(self, digits):\n",
    "        \"\"\"\n",
    "        :type digits: str\n",
    "        :rtype: List[str]\n",
    "        \"\"\"\n",
    "        if digits == '':\n",
    "            return []\n",
    "        self.res = []\n",
    "        tmp = [''] * len(digits)\n",
    "        return self.func(0, digits, tmp)\n",
    "    def func(self, index, digits, tmp):\n",
    "        if index >= len(digits):\n",
    "            self.res.append(''.join(tmp))\n",
    "            return \n",
    "        for letter in self.dic[digits[index]]:\n",
    "            #print 'letter',letter\n",
    "            tmp[index]=letter\n",
    "            self.func(index+1, digits, tmp)\n",
    "        return self.res   "
   ]
  },
  {
   "cell_type": "code",
   "execution_count": 9,
   "metadata": {
    "collapsed": true
   },
   "outputs": [],
   "source": [
    "a = Solution()"
   ]
  },
  {
   "cell_type": "code",
   "execution_count": 10,
   "metadata": {},
   "outputs": [
    {
     "data": {
      "text/plain": [
       "['ad', 'ae', 'af', 'bd', 'be', 'bf', 'cd', 'ce', 'cf']"
      ]
     },
     "execution_count": 10,
     "metadata": {},
     "output_type": "execute_result"
    }
   ],
   "source": [
    "a.letterCombinations(digits)"
   ]
  },
  {
   "cell_type": "code",
   "execution_count": null,
   "metadata": {},
   "outputs": [],
   "source": []
  },
  {
   "cell_type": "code",
   "execution_count": null,
   "metadata": {
    "collapsed": true
   },
   "outputs": [],
   "source": []
  }
 ],
 "metadata": {
  "kernelspec": {
   "display_name": "Python 2",
   "language": "python",
   "name": "python2"
  },
  "language_info": {
   "codemirror_mode": {
    "name": "ipython",
    "version": 2
   },
   "file_extension": ".py",
   "mimetype": "text/x-python",
   "name": "python",
   "nbconvert_exporter": "python",
   "pygments_lexer": "ipython2",
   "version": "2.7.14"
  }
 },
 "nbformat": 4,
 "nbformat_minor": 2
}
