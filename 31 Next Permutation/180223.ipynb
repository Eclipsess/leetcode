{
 "cells": [
  {
   "cell_type": "code",
   "execution_count": 2,
   "metadata": {
    "collapsed": true
   },
   "outputs": [],
   "source": [
    "nums = [2,2,3,5,4,3,2]"
   ]
  },
  {
   "cell_type": "code",
   "execution_count": 7,
   "metadata": {
    "scrolled": true
   },
   "outputs": [],
   "source": [
    "nums_len = len(nums)\n",
    "flag = 0\n",
    "for i in range(1,nums_len,-1):\n",
    "    if nums[i-1] < nums[i]:\n",
    "        flag = i\n",
    "        nums[i-1],nums[i] == nums[i],nums[i-1]\n",
    "        break\n",
    "r = nums_len - 1\n",
    "while(flag < r):\n",
    "    nums[flag],nums[r] = nums[r], nums[flag]\n",
    "    flag += 1\n",
    "    r -= 1"
   ]
  },
  {
   "cell_type": "code",
   "execution_count": 8,
   "metadata": {},
   "outputs": [
    {
     "data": {
      "text/plain": [
       "[2, 2, 3, 5, 4, 3, 2]"
      ]
     },
     "execution_count": 8,
     "metadata": {},
     "output_type": "execute_result"
    }
   ],
   "source": [
    "nums"
   ]
  },
  {
   "cell_type": "code",
   "execution_count": 33,
   "metadata": {
    "collapsed": true
   },
   "outputs": [],
   "source": [
    "class Solution(object):\n",
    "    def nextPermutation(self, nums):\n",
    "        \"\"\"\n",
    "        :type nums: List[int]\n",
    "        :rtype: void Do not return anything, modify nums in-place instead.\n",
    "        \"\"\"\n",
    "        nums_len = len(nums)\n",
    "        flag = 0\n",
    "        for i in range(1,nums_len)[::-1]:\n",
    "            if nums[i-1] < nums[i]:\n",
    "                flag = i\n",
    "                print flag\n",
    "                nums[i-1],nums[i] = nums[i],nums[i-1]\n",
    "                break\n",
    "        print nums\n",
    "        r = nums_len - 1\n",
    "        while(flag < r):\n",
    "            nums[flag],nums[r] = nums[r], nums[flag]\n",
    "            flag += 1\n",
    "            r -= 1"
   ]
  },
  {
   "cell_type": "code",
   "execution_count": 40,
   "metadata": {},
   "outputs": [
    {
     "name": "stdout",
     "output_type": "stream",
     "text": [
      "2\n",
      "[5, 5, 7, 4, 2, 3]\n",
      "3\n",
      "[5, 5, 3, 4, 2, 7]\n",
      "[5, 5, 3, 2, 4, 7]\n"
     ]
    }
   ],
   "source": [
    "Solution().nextPermutation(nums)\n",
    "print nums"
   ]
  },
  {
   "cell_type": "code",
   "execution_count": 51,
   "metadata": {},
   "outputs": [],
   "source": [
    "nums = [5,4,7,5,3,2]"
   ]
  },
  {
   "cell_type": "code",
   "execution_count": 52,
   "metadata": {},
   "outputs": [
    {
     "data": {
      "text/plain": [
       "[]"
      ]
     },
     "execution_count": 52,
     "metadata": {},
     "output_type": "execute_result"
    }
   ],
   "source": [
    "range(1,5,-1)[::-1]"
   ]
  },
  {
   "cell_type": "code",
   "execution_count": 53,
   "metadata": {
    "collapsed": true
   },
   "outputs": [],
   "source": [
    "class Solution(object):\n",
    "    def nextPermutation(self, nums):\n",
    "        \"\"\"\n",
    "        :type nums: List[int]\n",
    "        :rtype: void Do not return anything, modify nums in-place instead.\n",
    "        \"\"\"\n",
    "        nums_len = len(nums)\n",
    "        flag = 0\n",
    "        for i in range(1,nums_len)[::-1]:\n",
    "            if nums[i-1] < nums[i]:\n",
    "                flag = i\n",
    "                #nums[i-1],nums[i] = nums[i],nums[i-1]\n",
    "                for i in range(flag, nums_len)[::-1]:\n",
    "                    if nums[i] > nums[flag - 1] or i == flag:\n",
    "                        nums[i],nums[flag-1] = nums[flag-1],nums[i]\n",
    "                        break\n",
    "                break\n",
    "        #print nums\n",
    "        r = nums_len - 1\n",
    "        while(flag < r):\n",
    "            #print flag\n",
    "            #print nums\n",
    "            nums[flag],nums[r] = nums[r], nums[flag]\n",
    "            flag += 1\n",
    "            r -= 1"
   ]
  },
  {
   "cell_type": "code",
   "execution_count": 54,
   "metadata": {},
   "outputs": [
    {
     "name": "stdout",
     "output_type": "stream",
     "text": [
      "[5, 5, 7, 4, 3, 2]\n",
      "2\n",
      "[5, 5, 7, 4, 3, 2]\n",
      "3\n",
      "[5, 5, 2, 4, 3, 7]\n",
      "[5, 5, 2, 3, 4, 7]\n"
     ]
    }
   ],
   "source": [
    "Solution().nextPermutation(nums)\n",
    "print nums"
   ]
  },
  {
   "cell_type": "code",
   "execution_count": null,
   "metadata": {
    "collapsed": true
   },
   "outputs": [],
   "source": []
  }
 ],
 "metadata": {
  "kernelspec": {
   "display_name": "Python 2",
   "language": "python",
   "name": "python2"
  },
  "language_info": {
   "codemirror_mode": {
    "name": "ipython",
    "version": 2
   },
   "file_extension": ".py",
   "mimetype": "text/x-python",
   "name": "python",
   "nbconvert_exporter": "python",
   "pygments_lexer": "ipython2",
   "version": "2.7.14"
  }
 },
 "nbformat": 4,
 "nbformat_minor": 2
}
