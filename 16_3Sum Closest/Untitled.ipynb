{
 "cells": [
  {
   "cell_type": "code",
   "execution_count": 1,
   "metadata": {},
   "outputs": [
    {
     "ename": "SyntaxError",
     "evalue": "invalid syntax (<ipython-input-1-acb201c8b9f0>, line 8)",
     "output_type": "error",
     "traceback": [
      "\u001b[0;36m  File \u001b[0;32m\"<ipython-input-1-acb201c8b9f0>\"\u001b[0;36m, line \u001b[0;32m8\u001b[0m\n\u001b[0;31m    mostCloseNum =\u001b[0m\n\u001b[0m                   ^\u001b[0m\n\u001b[0;31mSyntaxError\u001b[0m\u001b[0;31m:\u001b[0m invalid syntax\n"
     ]
    }
   ],
   "source": [
    "class Solution(object):\n",
    "    def threeSumClosest(self, nums, target):\n",
    "        \"\"\"\n",
    "        :type nums: List[int]\n",
    "        :type target: int\n",
    "        :rtype: int\n",
    "        \"\"\"\n",
    "        mostCloseNum = \n",
    "        "
   ]
  },
  {
   "cell_type": "code",
   "execution_count": 29,
   "metadata": {
    "collapsed": true
   },
   "outputs": [],
   "source": [
    "nums = [1, 1, -1, -1, 3]\n",
    "target = -1"
   ]
  },
  {
   "cell_type": "code",
   "execution_count": null,
   "metadata": {},
   "outputs": [],
   "source": []
  },
  {
   "cell_type": "code",
   "execution_count": null,
   "metadata": {},
   "outputs": [],
   "source": []
  },
  {
   "cell_type": "code",
   "execution_count": 32,
   "metadata": {},
   "outputs": [
    {
     "name": "stdout",
     "output_type": "stream",
     "text": [
      "bestRes: 1\n",
      "sortedNum [-1, -1, 1, 1, 3]\n",
      "sumN 1\n",
      "1 0 4\n",
      "yes\n",
      "sortedNum [-1, -1, 1, 1, 3]\n",
      "sumN 3\n",
      "2 0 4\n",
      "sortedNum [-1, -1, 1, 1, 3]\n",
      "sumN 1\n",
      "2 0 3\n",
      "yes\n",
      "bestRes 1\n",
      "sortedNum [-1, -1, 1, 1, 3]\n",
      "sumN 1\n",
      "0 1 4\n",
      "yes\n",
      "sortedNum [-1, -1, 1, 1, 3]\n",
      "sumN 3\n",
      "2 1 4\n",
      "sortedNum [-1, -1, 1, 1, 3]\n",
      "sumN 1\n",
      "2 1 3\n",
      "yes\n",
      "bestRes 1\n",
      "sortedNum [-1, -1, 1, 1, 3]\n",
      "sumN 3\n",
      "0 2 4\n",
      "sortedNum [-1, -1, 1, 1, 3]\n",
      "sumN 1\n",
      "0 2 3\n",
      "yes\n",
      "sortedNum [-1, -1, 1, 1, 3]\n",
      "sumN 1\n",
      "1 2 3\n",
      "yes\n",
      "bestRes 1\n",
      "sortedNum [-1, -1, 1, 1, 3]\n",
      "sumN 3\n",
      "0 3 4\n",
      "sortedNum [-1, -1, 1, 1, 3]\n",
      "sumN 1\n",
      "0 3 2\n",
      "yes\n",
      "sortedNum [-1, -1, 1, 1, 3]\n",
      "sumN 1\n",
      "1 3 2\n",
      "yes\n",
      "bestRes 1\n",
      "sortedNum [-1, -1, 1, 1, 3]\n",
      "sumN 3\n",
      "0 4 3\n",
      "sortedNum [-1, -1, 1, 1, 3]\n",
      "sumN 3\n",
      "0 4 2\n",
      "sortedNum [-1, -1, 1, 1, 3]\n",
      "sumN 1\n",
      "0 4 1\n",
      "yes\n",
      "bestRes 1\n"
     ]
    }
   ],
   "source": [
    "sortedNums = sorted(nums)\n",
    "bestRes = nums[0] +nums[1]+nums[2]\n",
    "bestClosest = abs(bestRes - target)\n",
    "print 'bestRes:',bestRes\n",
    "for i in range(len(sortedNums)):\n",
    "    l = 0\n",
    "    r = len(sortedNums)-1\n",
    "    while(l < r):\n",
    "        if l == i:\n",
    "            l += 1\n",
    "            continue\n",
    "        if r == i:\n",
    "            r -= 1\n",
    "            continue\n",
    "        sumN = sortedNums[l] + sortedNums[r] + sortedNums[i]\n",
    "        print 'sortedNum',sortedNums\n",
    "        print 'sumN',sumN\n",
    "        print l,i,r\n",
    "        if abs(sumN-target) <= bestClosest:\n",
    "            print 'yes'\n",
    "            bestClosest = abs(sumN-target)\n",
    "            bestRes = sumN\n",
    "        if sumN < bestClosest:\n",
    "            l += 1\n",
    "        elif sumN > bestClosest:\n",
    "            r -= 1\n",
    "        else:\n",
    "            print bestRes\n",
    "            break\n",
    "    #print l,i,r\n",
    "    print 'bestRes',bestRes   "
   ]
  },
  {
   "cell_type": "code",
   "execution_count": 27,
   "metadata": {
    "collapsed": true
   },
   "outputs": [],
   "source": [
    "nums = [1,1,1,1]"
   ]
  },
  {
   "cell_type": "code",
   "execution_count": 5,
   "metadata": {},
   "outputs": [
    {
     "data": {
      "text/plain": [
       "3"
      ]
     },
     "execution_count": 5,
     "metadata": {},
     "output_type": "execute_result"
    }
   ],
   "source": [
    "sum(nums)"
   ]
  },
  {
   "cell_type": "code",
   "execution_count": null,
   "metadata": {
    "collapsed": true
   },
   "outputs": [],
   "source": []
  }
 ],
 "metadata": {
  "kernelspec": {
   "display_name": "Python 2",
   "language": "python",
   "name": "python2"
  },
  "language_info": {
   "codemirror_mode": {
    "name": "ipython",
    "version": 2
   },
   "file_extension": ".py",
   "mimetype": "text/x-python",
   "name": "python",
   "nbconvert_exporter": "python",
   "pygments_lexer": "ipython2",
   "version": "2.7.14"
  }
 },
 "nbformat": 4,
 "nbformat_minor": 2
}
